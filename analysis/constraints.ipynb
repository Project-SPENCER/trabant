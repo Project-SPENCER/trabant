{
 "cells": [
  {
   "cell_type": "code",
   "execution_count": 9,
   "metadata": {},
   "outputs": [],
   "source": [
    "P_generated = 2.95 # W\n",
    "P_base = 1.518 # W\n",
    "E_pre = 0.01 # J\n",
    "R_frame = 2.5 # Hz\n",
    "R_cloudy = 0.444\n",
    "R_sunny = 0.408\n",
    "R_filter = 1 - (R_sunny * (1 - R_cloudy))\n",
    "bitrate = 80_000_000 # bps\n",
    "comm_power = 20 # W\n",
    "E_sendbit = 1/bitrate * comm_power # J/bit\n",
    "contact_r = 0.0075\n",
    "B_downlink = bitrate * contact_r # bps\n",
    "T_pre = 0.038 # s\n",
    "S_frame = 256*256*13*8 # bits"
   ]
  },
  {
   "cell_type": "code",
   "execution_count": 10,
   "metadata": {},
   "outputs": [
    {
     "name": "stdout",
     "output_type": "stream",
     "text": [
      "E_sendbit: 2.5e-07 J/bit\n",
      "B_downlink: 600000.0 bps\n",
      "S_frame: 6815744 bits\n",
      "R_filter: 0.7731520000000001\n"
     ]
    }
   ],
   "source": [
    "print(f\"E_sendbit: {E_sendbit} J/bit\")\n",
    "print(f\"B_downlink: {B_downlink} bps\")\n",
    "print(f\"S_frame: {S_frame} bits\")\n",
    "print(f\"R_filter: {R_filter}\")"
   ]
  },
  {
   "cell_type": "code",
   "execution_count": 11,
   "metadata": {},
   "outputs": [],
   "source": [
    "fn = [\"methane\", \"segment\", \"vessel\", \"wildfire\", \"moisture\"]\n",
    "\n",
    "Ef = {\n",
    "    \"methane\": 0.041,\n",
    "    \"segment\": 0.755,\n",
    "    \"vessel\": 1.053,\n",
    "    \"wildfire\": 0.667,\n",
    "    \"moisture\": 0.092,\n",
    "} # J\n",
    "\n",
    "Cf = {\n",
    "    \"methane\": 0.051,\n",
    "    \"segment\": 0.047,\n",
    "    \"vessel\": 0.026,\n",
    "    \"wildfire\": 0.028,\n",
    "    \"moisture\": 0.041,\n",
    "}\n",
    "\n",
    "Tf = {\n",
    "    \"methane\": 0.018,\n",
    "    \"segment\": 0.494,\n",
    "    \"vessel\": 0.585,\n",
    "    \"wildfire\": 0.353,\n",
    "    \"moisture\": 0.050,\n",
    "} # s"
   ]
  },
  {
   "cell_type": "code",
   "execution_count": 12,
   "metadata": {},
   "outputs": [],
   "source": [
    "def analyze_constraints(selected_fns):\n",
    "    P_compute = P_base + E_pre * R_frame + sum([Ef[fn] * R_frame * (1-R_filter) for fn in selected_fns])\n",
    "    P_comm = E_sendbit * sum([Cf[fn] * R_frame * (1-R_filter) * S_frame for fn in selected_fns])\n",
    "\n",
    "    print(f\"P_generated >= P_compute + P_comm: {P_generated >= P_compute + P_comm}\")\n",
    "    print(f\"P_compute: {P_compute}\")\n",
    "    print(f\"P_comm: {P_comm}\")\n",
    "    print(f\"P_generated: {P_generated}\")\n",
    "\n",
    "    downlink = sum([Cf[fn] * R_frame * (1-R_filter) * S_frame for fn in selected_fns])\n",
    "\n",
    "    print(f\"B_downlink >= downlink: {B_downlink >= downlink}\")\n",
    "    print(f\"Downlink: {downlink} bps\")\n",
    "    print(f\"B_downlink: {B_downlink} bps\")\n",
    "\n",
    "    processing_time = T_pre + sum([Tf[fn] * (1-R_filter) for fn in selected_fns])\n",
    "\n",
    "    print(f\"R_frame^-1 >= processing_time: {R_frame**-1 >= processing_time}\")\n",
    "    print(f\"Processing time: {processing_time}\")\n",
    "    print(f\"R_frame^-1: {R_frame**-1}\")"
   ]
  },
  {
   "cell_type": "code",
   "execution_count": 13,
   "metadata": {},
   "outputs": [
    {
     "name": "stdout",
     "output_type": "stream",
     "text": [
      "P_generated >= P_compute + P_comm: False\n",
      "P_compute: 3.0220489599999993\n",
      "P_comm: 0.18650288357375994\n",
      "P_generated: 2.95\n",
      "B_downlink >= downlink: False\n",
      "Downlink: 746011.5342950398 bps\n",
      "B_downlink: 600000.0 bps\n",
      "R_frame^-1 >= processing_time: True\n",
      "Processing time: 0.3782719999999999\n",
      "R_frame^-1: 0.4\n"
     ]
    }
   ],
   "source": [
    "selected_fns = [\"methane\", \"segment\", \"vessel\", \"wildfire\", \"moisture\"]\n",
    "\n",
    "analyze_constraints(selected_fns)"
   ]
  },
  {
   "cell_type": "code",
   "execution_count": 14,
   "metadata": {},
   "outputs": [
    {
     "name": "stdout",
     "output_type": "stream",
     "text": [
      "P_generated >= P_compute + P_comm: True\n",
      "P_compute: 2.5938733599999995\n",
      "P_comm: 0.14108508291071997\n",
      "P_generated: 2.95\n",
      "B_downlink >= downlink: True\n",
      "Downlink: 564340.3316428799 bps\n",
      "B_downlink: 600000.0 bps\n",
      "R_frame^-1 >= processing_time: True\n",
      "Processing time: 0.2662090879999999\n",
      "R_frame^-1: 0.4\n"
     ]
    }
   ],
   "source": [
    "selected_fns = [\"methane\", \"vessel\", \"wildfire\", \"moisture\"]\n",
    "analyze_constraints(selected_fns)"
   ]
  },
  {
   "cell_type": "code",
   "execution_count": null,
   "metadata": {},
   "outputs": [],
   "source": []
  }
 ],
 "metadata": {
  "kernelspec": {
   "display_name": ".venv",
   "language": "python",
   "name": "python3"
  },
  "language_info": {
   "codemirror_mode": {
    "name": "ipython",
    "version": 3
   },
   "file_extension": ".py",
   "mimetype": "text/x-python",
   "name": "python",
   "nbconvert_exporter": "python",
   "pygments_lexer": "ipython3",
   "version": "3.12.7"
  }
 },
 "nbformat": 4,
 "nbformat_minor": 2
}
