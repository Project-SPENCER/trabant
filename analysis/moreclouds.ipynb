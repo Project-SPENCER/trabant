{
 "cells": [
  {
   "cell_type": "code",
   "execution_count": 1,
   "metadata": {},
   "outputs": [],
   "source": [
    "import os\n",
    "import itertools\n",
    "import glob\n",
    "import datetime\n",
    "\n",
    "import numpy as np\n",
    "import pandas as pd\n",
    "import seaborn as sns\n",
    "import tqdm as tqdm\n",
    "import matplotlib as mpl\n",
    "import matplotlib.ticker\n",
    "import matplotlib.pyplot as plt\n",
    "import zipfile\n",
    "import PIL.Image\n",
    "\n",
    "sns.set(font_scale=0.9, style='whitegrid', font='CMU Sans Serif')\n",
    "pal = sns.color_palette(['#4477AA', '#EE6677', '#228833', '#CCBB44', '#66CCEE', '#AA3377', '#BBBBBB'])\n",
    "sns.set_palette(pal)\n",
    "\n",
    "mpl.rcParams['pdf.fonttype'] = 42\n",
    "mpl.rcParams['ps.fonttype'] = 42\n",
    "mpl.rcParams['figure.figsize'] = (4.5,2)\n",
    "mpl.rcParams['figure.dpi'] = 100"
   ]
  },
  {
   "cell_type": "code",
   "execution_count": 2,
   "metadata": {},
   "outputs": [],
   "source": [
    "IMAGE_LOG = \"../pkg/model/image_log_with_alt.csv\"\n",
    "IMAGES = \"../pkg/model/images\"\n",
    "\n",
    "BAND_INDICES = {\n",
    "    \"B01\": 0,\n",
    "    \"B02\": 1,\n",
    "    \"B03\": 2,\n",
    "    \"B04\": 3,\n",
    "    \"B05\": 4,\n",
    "    \"B06\": 5,\n",
    "    \"B07\": 6,\n",
    "    \"B08\": 7,\n",
    "    \"B8A\": 8,\n",
    "    \"B09\": 9,\n",
    "    \"B11\": 10,\n",
    "    \"B12\": 11,\n",
    "    \"CLD\": 12,\n",
    "}"
   ]
  },
  {
   "cell_type": "code",
   "execution_count": 70,
   "metadata": {},
   "outputs": [],
   "source": [
    "# read the image log to find out what images exist\n",
    "image_ids = []\n",
    "sunlights = []\n",
    "sunlit = False\n",
    "with open(IMAGE_LOG, 'r') as f:\n",
    "    for line in f:\n",
    "        if line.startswith(\"t_ms\"):\n",
    "            continue\n",
    "        t_ms, lat, lon, alt, is_sunlit = line.strip().split(',')\n",
    "        if not (is_sunlit == \"1\") == sunlit:\n",
    "            sunlit = (is_sunlit == \"1\")\n",
    "            sunlights.append((sunlit, t_ms))\n",
    "\n",
    "        image_ids.append((t_ms, (is_sunlit == \"1\")))"
   ]
  },
  {
   "cell_type": "code",
   "execution_count": 71,
   "metadata": {},
   "outputs": [],
   "source": [
    "# the CLD band is our baseline\n",
    "def cld_cloud_percentage(image):\n",
    "    # don't ask why, but there are some images where a CLD pixel is above 100\n",
    "    return np.sum(np.clip(image, 0, 100)) / 100 / (image.shape[0] * image.shape[1])"
   ]
  },
  {
   "cell_type": "code",
   "execution_count": 72,
   "metadata": {},
   "outputs": [
    {
     "name": "stderr",
     "output_type": "stream",
     "text": [
      "100%|██████████| 54000/54000 [00:38<00:00, 1406.23it/s]\n"
     ]
    }
   ],
   "source": [
    "def read_image(image_path):\n",
    "    # basically a zip file of a bunch of tiffs\n",
    "    # ..._B01.tiff, ..._B02.tiff, etc.\n",
    "    with zipfile.ZipFile(image_path) as zf:\n",
    "        # print(f\"Reading {os.path.basename(image_path)}\")\n",
    "        with zf.open(f\"{os.path.basename(image_path)[:-4]}_CLD.tiff\") as f:\n",
    "            return np.array(PIL.Image.open(f))\n",
    "\n",
    "images = [os.path.join(IMAGES, f\"{i}.zip\") for i in image_ids]\n",
    "\n",
    "clouds = [(i, sunlit, cld_cloud_percentage(read_image(os.path.join(IMAGES, f\"{i}.zip\")))) for i, sunlit in tqdm.tqdm(image_ids)]"
   ]
  },
  {
   "cell_type": "code",
   "execution_count": 73,
   "metadata": {},
   "outputs": [
    {
     "data": {
      "text/html": [
       "<div>\n",
       "<style scoped>\n",
       "    .dataframe tbody tr th:only-of-type {\n",
       "        vertical-align: middle;\n",
       "    }\n",
       "\n",
       "    .dataframe tbody tr th {\n",
       "        vertical-align: top;\n",
       "    }\n",
       "\n",
       "    .dataframe thead th {\n",
       "        text-align: right;\n",
       "    }\n",
       "</style>\n",
       "<table border=\"1\" class=\"dataframe\">\n",
       "  <thead>\n",
       "    <tr style=\"text-align: right;\">\n",
       "      <th></th>\n",
       "      <th>image_id</th>\n",
       "      <th>sunlit</th>\n",
       "      <th>cloud_percentage</th>\n",
       "    </tr>\n",
       "  </thead>\n",
       "  <tbody>\n",
       "    <tr>\n",
       "      <th>0</th>\n",
       "      <td>0</td>\n",
       "      <td>True</td>\n",
       "      <td>1.000000</td>\n",
       "    </tr>\n",
       "    <tr>\n",
       "      <th>1</th>\n",
       "      <td>400</td>\n",
       "      <td>True</td>\n",
       "      <td>1.000000</td>\n",
       "    </tr>\n",
       "    <tr>\n",
       "      <th>2</th>\n",
       "      <td>800</td>\n",
       "      <td>True</td>\n",
       "      <td>0.999949</td>\n",
       "    </tr>\n",
       "    <tr>\n",
       "      <th>3</th>\n",
       "      <td>1200</td>\n",
       "      <td>True</td>\n",
       "      <td>0.999941</td>\n",
       "    </tr>\n",
       "    <tr>\n",
       "      <th>4</th>\n",
       "      <td>1600</td>\n",
       "      <td>True</td>\n",
       "      <td>1.000000</td>\n",
       "    </tr>\n",
       "  </tbody>\n",
       "</table>\n",
       "</div>"
      ],
      "text/plain": [
       "  image_id  sunlit  cloud_percentage\n",
       "0        0    True          1.000000\n",
       "1      400    True          1.000000\n",
       "2      800    True          0.999949\n",
       "3     1200    True          0.999941\n",
       "4     1600    True          1.000000"
      ]
     },
     "execution_count": 73,
     "metadata": {},
     "output_type": "execute_result"
    }
   ],
   "source": [
    "df = pd.DataFrame(clouds, columns=[\"image_id\", \"sunlit\", \"cloud_percentage\"])\n",
    "df.to_csv(\"moreclouds.csv\")\n",
    "df.head()"
   ]
  },
  {
   "cell_type": "code",
   "execution_count": null,
   "metadata": {},
   "outputs": [],
   "source": [
    "# smooth the data\n",
    "# 5s rolling mean\n",
    "# first create datetime index on image_id\n",
    "df = pd.read_csv(\"moreclouds.csv\")\n",
    "df_smooth = df.copy()\n",
    "df_smooth['image_id'] = df_smooth['image_id'].astype(int)\n",
    "df_smooth['timestamp'] = pd.to_datetime(df_smooth['image_id'], unit='ms')\n",
    "df_smooth = df_smooth.set_index('timestamp')\n",
    "df_smooth = df_smooth.resample('1min').mean()"
   ]
  },
  {
   "cell_type": "code",
   "execution_count": 75,
   "metadata": {},
   "outputs": [
    {
     "name": "stdout",
     "output_type": "stream",
     "text": [
      "(False, '1081200') (True, '3957600')\n",
      "(False, '6597600') (True, '9808800')\n",
      "(False, '12133600') (True, '15492400')\n",
      "(False, '17456400') (True, '20951200')\n"
     ]
    },
    {
     "data": {
      "image/png": "[encoded data removed]",
      "text/plain": [
       "<Figure size 450x200 with 1 Axes>"
      ]
     },
     "metadata": {},
     "output_type": "display_data"
    }
   ],
   "source": [
    "# plot the cloud percentage, then add grey boxes for the non-sunlit periods\n",
    "fig, ax = plt.subplots()\n",
    "\n",
    "sns.lineplot(data=df_smooth, x=\"image_id\", y=\"cloud_percentage\", ax=ax)\n",
    "\n",
    "# add grey boxes for non-sunlit periods\n",
    "# get first non-sunlit period\n",
    "first_darkness = 0\n",
    "for i in range(len(sunlights)):\n",
    "    if not sunlights[i][0]:\n",
    "        first_darkness = i\n",
    "        break\n",
    "\n",
    "for i in range(first_darkness, len(sunlights), 2):\n",
    "    print(sunlights[i], sunlights[i+1])\n",
    "    ax.axvspan(int(sunlights[i][1]), int(sunlights[i+1][1]), color='grey', alpha=0.1)"
   ]
  },
  {
   "cell_type": "code",
   "execution_count": 76,
   "metadata": {},
   "outputs": [
    {
     "name": "stdout",
     "output_type": "stream",
     "text": [
      "(1081200, 'sun')\n",
      "(2876400, 'dark')\n",
      "(2640000, 'sun')\n",
      "(3211200, 'dark')\n",
      "(2324800, 'sun')\n",
      "(3358800, 'dark')\n",
      "(1964000, 'sun')\n",
      "(3494800, 'dark')\n"
     ]
    }
   ],
   "source": [
    "# get the length of the sunlit and not sunlit periods\n",
    "lengths = [(int(sunlights[i+1][1]) - int(sunlights[i][1]), \"sun\" if sunlights[i][0] else \"dark\") for i in range(0, len(sunlights)-1)]\n",
    "\n",
    "for l in lengths:\n",
    "    print(l)"
   ]
  },
  {
   "cell_type": "code",
   "execution_count": 77,
   "metadata": {},
   "outputs": [
    {
     "name": "stdout",
     "output_type": "stream",
     "text": [
      "Sunlit ratio: 0.4077\n"
     ]
    }
   ],
   "source": [
    "# skip the first two, then get the ratio\n",
    "R_sunlit = sum([l[0] for l in lengths[2:] if l[1] == \"sun\"]) / sum([l[0] for l in lengths[2:]])\n",
    "print(f\"Sunlit ratio: {R_sunlit:.4f}\")"
   ]
  },
  {
   "cell_type": "code",
   "execution_count": 78,
   "metadata": {},
   "outputs": [
    {
     "name": "stdout",
     "output_type": "stream",
     "text": [
      "Cloud ratio: 0.4435\n"
     ]
    },
    {
     "name": "stderr",
     "output_type": "stream",
     "text": [
      "/var/folders/2f/b2y6thfs2051_m0fs57vb_sc0000gn/T/ipykernel_59546/2853510774.py:3: SettingWithCopyWarning: \n",
      "A value is trying to be set on a copy of a slice from a DataFrame.\n",
      "Try using .loc[row_indexer,col_indexer] = value instead\n",
      "\n",
      "See the caveats in the documentation: https://pandas.pydata.org/pandas-docs/stable/user_guide/indexing.html#returning-a-view-versus-a-copy\n",
      "  sunlit_clouds[\"too_cloudy\"] = sunlit_clouds[\"cloud_percentage\"] > 0.3\n"
     ]
    }
   ],
   "source": [
    "# cloud ratio (only for sunlit images)\n",
    "sunlit_clouds = df[df['sunlit']]\n",
    "sunlit_clouds[\"too_cloudy\"] = sunlit_clouds[\"cloud_percentage\"] > 0.3\n",
    "R_cloudy = sunlit_clouds[\"too_cloudy\"].sum() / len(sunlit_clouds)\n",
    "print(f\"Cloud ratio: {R_cloudy:.4f}\")"
   ]
  },
  {
   "cell_type": "code",
   "execution_count": 79,
   "metadata": {},
   "outputs": [
    {
     "data": {
      "text/plain": [
       "0.3636029840732726"
      ]
     },
     "execution_count": 79,
     "metadata": {},
     "output_type": "execute_result"
    }
   ],
   "source": [
    "sunlit_clouds[\"cloud_percentage\"].mean()"
   ]
  },
  {
   "cell_type": "code",
   "execution_count": 80,
   "metadata": {},
   "outputs": [
    {
     "name": "stdout",
     "output_type": "stream",
     "text": [
      "Filter ratio: 0.7731\n"
     ]
    }
   ],
   "source": [
    "R_filter = 1 - R_sunlit * (1-R_cloudy)\n",
    "print(f\"Filter ratio: {R_filter:.4f}\")"
   ]
  }
 ],
 "metadata": {
  "kernelspec": {
   "display_name": ".venv",
   "language": "python",
   "name": "python3"
  },
  "language_info": {
   "codemirror_mode": {
    "name": "ipython",
    "version": 3
   },
   "file_extension": ".py",
   "mimetype": "text/x-python",
   "name": "python",
   "nbconvert_exporter": "python",
   "pygments_lexer": "ipython3",
   "version": "3.12.9"
  }
 },
 "nbformat": 4,
 "nbformat_minor": 2
}
