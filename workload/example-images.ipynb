{
 "cells": [
  {
   "cell_type": "code",
   "execution_count": 37,
   "metadata": {},
   "outputs": [],
   "source": [
    "import os\n",
    "import itertools\n",
    "import glob\n",
    "import datetime\n",
    "import zipfile\n",
    "import numpy as np\n",
    "import pandas as pd\n",
    "import seaborn as sns\n",
    "import matplotlib as mpl\n",
    "import matplotlib.ticker\n",
    "import matplotlib.pyplot as plt\n",
    "import PIL.Image\n",
    "\n",
    "\n",
    "sns.set(font_scale=1.0, style='ticks', font='CMU Sans Serif')\n",
    "pal = sns.color_palette(['#4477AA', '#EE6677', '#228833', '#CCBB44', '#66CCEE', '#AA3377', '#BBBBBB'])\n",
    "sns.set_palette(pal)\n",
    "\n",
    "mpl.rcParams['pdf.fonttype'] = 42\n",
    "mpl.rcParams['ps.fonttype'] = 42\n",
    "mpl.rcParams['figure.figsize'] = (4.5,2)\n",
    "mpl.rcParams['figure.dpi'] = 100"
   ]
  },
  {
   "cell_type": "code",
   "execution_count": 38,
   "metadata": {},
   "outputs": [],
   "source": [
    "IMAGE_DIR = \"../pkg/model/images\"\n",
    "IMAGE_LOG = \"../pkg/model/image_log_with_alt.csv\"\n",
    "IMAGES = {\n",
    "    \"ocean\": \"4520800\",\n",
    "    \"land\": \"15916400\",\n",
    "    \"cloud\": \"4427200\",\n",
    "    \"night\": \"14400000\",\n",
    "}"
   ]
  },
  {
   "cell_type": "code",
   "execution_count": 39,
   "metadata": {},
   "outputs": [
    {
     "name": "stdout",
     "output_type": "stream",
     "text": [
      "4427200 4427200,50.535,152.457,487.243,1\n",
      "\n",
      "4520800 4520800,44.681,150.388,485.965,1\n",
      "\n",
      "14400000 14400000,44.655,-85.374,478.465,0\n",
      "\n",
      "15916400 15916400,38.124,101.394,484.482,1\n",
      "\n"
     ]
    }
   ],
   "source": [
    "# figure out where the images were taken\n",
    "LOCATIONS = {}\n",
    "\n",
    "i = set(IMAGES.values())\n",
    "with open(IMAGE_LOG) as f:\n",
    "    for line in f:\n",
    "        s = line.split(\",\")[0]\n",
    "\n",
    "        if s in i:\n",
    "            print(s, line)\n",
    "            _, lat, lon, alt, sunlit = line.strip().split(\",\")\n",
    "            LOCATIONS[s] = {\n",
    "                \"lat\": float(lat),\n",
    "                \"lon\": float(lon),\n",
    "                \"alt\": float(alt),\n",
    "                \"sunlit\": sunlit == \"True\",\n",
    "            }"
   ]
  },
  {
   "cell_type": "code",
   "execution_count": 40,
   "metadata": {},
   "outputs": [],
   "source": [
    "def cld_cloud_percentage(image):\n",
    "    # don't ask why, but there are some images where a CLD pixel is above 100\n",
    "    return np.sum(np.clip(image, 0, 100)) / 100 / (image.shape[0] * image.shape[1])"
   ]
  },
  {
   "cell_type": "code",
   "execution_count": 41,
   "metadata": {},
   "outputs": [],
   "source": [
    "def read_image(image_path):\n",
    "    # basically a zip file of a bunch of tiffs\n",
    "    # ..._B01.tiff, ..._B02.tiff, etc.\n",
    "    with zipfile.ZipFile(image_path) as zf:\n",
    "        # print(f\"Reading {os.path.basename(image_path)}\")\n",
    "        with zf.open(f\"{os.path.basename(image_path)[:-4]}_CLD.tiff\") as f:\n",
    "            return np.array(PIL.Image.open(f))\n"
   ]
  },
  {
   "cell_type": "code",
   "execution_count": 42,
   "metadata": {},
   "outputs": [
    {
     "name": "stdout",
     "output_type": "stream",
     "text": [
      "4520800 0.00439453125 %\n",
      "15916400 0.069244384765625 %\n",
      "4427200 100.0 %\n",
      "14400000 100.0 %\n"
     ]
    }
   ],
   "source": [
    "CLOUD_COVERS = {}\n",
    "for i in IMAGES.values():\n",
    "    c = cld_cloud_percentage(read_image(os.path.join(IMAGE_DIR, f\"{i}.zip\"))) * 100\n",
    "    print(i, c, \"%\")\n",
    "    CLOUD_COVERS[i] = c"
   ]
  },
  {
   "cell_type": "code",
   "execution_count": 43,
   "metadata": {},
   "outputs": [
    {
     "name": "stderr",
     "output_type": "stream",
     "text": [
      "webf NOT subset; don't know how to subset; dropped\n",
      "webf NOT subset; don't know how to subset; dropped\n",
      "Clipping input data to the valid range for imshow with RGB data ([0..1] for floats or [0..255] for integers).\n",
      "webf NOT subset; don't know how to subset; dropped\n",
      "webf NOT subset; don't know how to subset; dropped\n"
     ]
    },
    {
     "data": {
      "image/png": "[encoded data removed]",
      "text/plain": [
       "<Figure size 450x200 with 1 Axes>"
      ]
     },
     "metadata": {},
     "output_type": "display_data"
    }
   ],
   "source": [
    "FACTOR = 2\n",
    "for k, i in IMAGES.items():\n",
    "    with zipfile.ZipFile(os.path.join(IMAGE_DIR, f\"{i}.zip\")) as zf:\n",
    "        with zf.open(f\"{i}_B04.tiff\") as f:\n",
    "            r_band =  np.array(PIL.Image.open(f)).astype(np.float64) / 255.0\n",
    "\n",
    "        with zf.open(f\"{i}_B03.tiff\") as f:\n",
    "            g_band =  np.array(PIL.Image.open(f)).astype(np.float64) / 255.0\n",
    "\n",
    "        with zf.open(f\"{i}_B02.tiff\") as f:\n",
    "            b_band =  np.array(PIL.Image.open(f)).astype(np.float64) / 255.0\n",
    "\n",
    "        img = np.stack([r_band, g_band, b_band], axis=-1)\n",
    "\n",
    "        g = plt.imshow(img * FACTOR)\n",
    "        # turn off gridlines\n",
    "        plt.grid(False)\n",
    "        # remove axes\n",
    "        plt.axis('off')\n",
    "\n",
    "        # add title text\n",
    "        plt.title(f\"latitude: {LOCATIONS[i]['lat']:.2f}°\\nlongitude: {LOCATIONS[i]['lon']:.2f}°\\ncloud cover: {CLOUD_COVERS[i]:.2f}%\")\n",
    "        plt.savefig(f\"example-{k}.pdf\", bbox_inches='tight', pad_inches=0)"
   ]
  }
 ],
 "metadata": {
  "kernelspec": {
   "display_name": ".venv",
   "language": "python",
   "name": "python3"
  },
  "language_info": {
   "codemirror_mode": {
    "name": "ipython",
    "version": 3
   },
   "file_extension": ".py",
   "mimetype": "text/x-python",
   "name": "python",
   "nbconvert_exporter": "python",
   "pygments_lexer": "ipython3",
   "version": "3.12.7"
  }
 },
 "nbformat": 4,
 "nbformat_minor": 2
}
